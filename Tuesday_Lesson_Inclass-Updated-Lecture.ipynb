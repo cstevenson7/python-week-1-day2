{
 "cells": [
  {
   "cell_type": "markdown",
   "metadata": {},
   "source": [
    "# Functions, Scoping, Data Collections 1 & List Comprehensions"
   ]
  },
  {
   "cell_type": "markdown",
   "metadata": {},
   "source": [
    "## Tasks Today:\n",
    "\n",
    "<i>Monday Additions (or, and ... if statements)</i>\n",
    "\n",
    "1) String Manipulation <br>\n",
    " &nbsp;&nbsp;&nbsp;&nbsp; a) strip() <br>\n",
    " &nbsp;&nbsp;&nbsp;&nbsp; b) title() <br>\n",
    "2) Working With Lists <br>\n",
    " &nbsp;&nbsp;&nbsp;&nbsp; a) min() <br>\n",
    " &nbsp;&nbsp;&nbsp;&nbsp; b) max() <br>\n",
    " &nbsp;&nbsp;&nbsp;&nbsp; c) sum() <br>\n",
    " &nbsp;&nbsp;&nbsp;&nbsp; d) sort() <br>\n",
    " &nbsp;&nbsp;&nbsp;&nbsp; e) Copying a List <br>\n",
    " &nbsp;&nbsp;&nbsp;&nbsp; f) 'in' keyword <br>\n",
    " &nbsp;&nbsp;&nbsp;&nbsp; g) 'not in' keyword <br>\n",
    " &nbsp;&nbsp;&nbsp;&nbsp; i) Checking an Empty List <br>\n",
    " &nbsp;&nbsp;&nbsp;&nbsp; j) Removing Instances with a Loop <br>\n",
    "3) List Comprehensions <br>\n",
    "4) Tuples <br>\n",
    " &nbsp;&nbsp;&nbsp;&nbsp; a) sorted() <br>\n",
    "5) Functions <br>\n",
    " &nbsp;&nbsp;&nbsp;&nbsp; a) User-Defined vs. Built-In Functions <br>\n",
    " &nbsp;&nbsp;&nbsp;&nbsp; b) Accepting Parameters <br>\n",
    " &nbsp;&nbsp;&nbsp;&nbsp; c) Default Parameters <br>\n",
    " &nbsp;&nbsp;&nbsp;&nbsp; d) Making an Argument Optional <br>\n",
    " &nbsp;&nbsp;&nbsp;&nbsp; e) Keyword Arguments <br>\n",
    " &nbsp;&nbsp;&nbsp;&nbsp; f) Returning Values <br>\n",
    " &nbsp;&nbsp;&nbsp;&nbsp; g) *args <br>\n",
    " &nbsp;&nbsp;&nbsp;&nbsp; h) Docstring <br>\n",
    " &nbsp;&nbsp;&nbsp;&nbsp; i) Using a User Function in a Loop <br>\n",
    "6) Scope"
   ]
  },
  {
   "cell_type": "markdown",
   "metadata": {},
   "source": [
    "### Monday Refreshers"
   ]
  },
  {
   "cell_type": "markdown",
   "metadata": {},
   "source": [
    "##### Using 'or' in if statements"
   ]
  },
  {
   "cell_type": "code",
   "execution_count": null,
   "metadata": {},
   "outputs": [],
   "source": [
    "# covered yesterday\n",
    "#one or the other have to be true"
   ]
  },
  {
   "cell_type": "markdown",
   "metadata": {},
   "source": [
    "##### Using 'and' in if statements"
   ]
  },
  {
   "cell_type": "code",
   "execution_count": null,
   "metadata": {},
   "outputs": [],
   "source": [
    "# covered yesterday\n",
    "#both sides have to be true"
   ]
  },
  {
   "cell_type": "markdown",
   "metadata": {},
   "source": [
    "##### Using both 'or' and 'and' in if statements"
   ]
  },
  {
   "cell_type": "code",
   "execution_count": null,
   "metadata": {},
   "outputs": [],
   "source": [
    "# covered yesterday"
   ]
  },
  {
   "cell_type": "markdown",
   "metadata": {},
   "source": [
    "### String Manipulation"
   ]
  },
  {
   "cell_type": "markdown",
   "metadata": {},
   "source": [
    "##### .lstrip()"
   ]
  },
  {
   "cell_type": "code",
   "execution_count": null,
   "metadata": {},
   "outputs": [],
   "source": [
    "# string.lstrip() removing white space but you can remove anything\n",
    "name = \"      h  John Smith\"\n",
    "# if brackest are emty it will look got white space\n",
    "print(name.lstrip())\n",
    "\n",
    "name = \"    h  John Smith\"\n",
    "# if brackest  need thae right amount of spacese\n",
    "print(name.lstrip(\"    h\"))\n",
    "\n",
    "print(name.lstrip(\" \" \"h\"))"
   ]
  },
  {
   "cell_type": "markdown",
   "metadata": {},
   "source": [
    "##### .rstrip()"
   ]
  },
  {
   "cell_type": "code",
   "execution_count": null,
   "metadata": {},
   "outputs": [],
   "source": [
    "# string.rstrip()\n",
    "name= \"bill Ross    Th\"\n",
    "print(name.rstrip(\"    Th\"))\n",
    "\n",
    "name= \"bill Ross    %\"\n",
    "print(name.rstrip(\"%\"))\n",
    "\n",
    "name= \"bill Ross.com/dfasf\"\n",
    "print(name.rstrip(\"/dfasf\"))\n"
   ]
  },
  {
   "cell_type": "markdown",
   "metadata": {},
   "source": [
    "##### .strip()"
   ]
  },
  {
   "cell_type": "code",
   "execution_count": null,
   "metadata": {},
   "outputs": [],
   "source": [
    "# string.strip() # left and right\n",
    "name = \"    John Smith    xy\"\n",
    "print(name.strip(\" \"  \" \" \"xy\"))\n",
    "\n",
    "name = \"    John Smith    xy\"\n",
    "print(name.strip(\" \"  \" \" \"h\")) #parrern matching on both sides so space on left,  space on right   and then looking\n",
    "#for an h\n",
    "\n",
    "\n",
    "name = \"John Smith\"\n",
    "print(name.strip(\"h\"))##why is h in john still here\n"
   ]
  },
  {
   "cell_type": "markdown",
   "metadata": {},
   "source": [
    "##### .title()"
   ]
  },
  {
   "cell_type": "code",
   "execution_count": null,
   "metadata": {},
   "outputs": [],
   "source": [
    "# string.title() # under the hood is a regular expression\n",
    "president= 'barak obama'\n",
    "print(president.title())\n",
    "\n",
    "help(str.title)"
   ]
  },
  {
   "cell_type": "markdown",
   "metadata": {},
   "source": [
    "### String Exercise <br>\n",
    "<p>Strip all white space and capitalize every name in the list given</p>"
   ]
  },
  {
   "cell_type": "code",
   "execution_count": null,
   "metadata": {},
   "outputs": [],
   "source": [
    "names = ['    coNNor', 'max', ' EVan ', 'JORDAN']\n",
    "# HINT: You will need to use a for loop for iteration string.lstrip()\n",
    "for name in names:     \n",
    "    print(name.strip().title())\n",
    "    \n",
    "\n"
   ]
  },
  {
   "cell_type": "markdown",
   "metadata": {},
   "source": [
    "### Working With Lists"
   ]
  },
  {
   "cell_type": "markdown",
   "metadata": {},
   "source": [
    "##### min()"
   ]
  },
  {
   "cell_type": "code",
   "execution_count": null,
   "metadata": {},
   "outputs": [],
   "source": [
    "# min(list)\n",
    "numbers = [4,2,97,54,16]\n",
    "print (min(numbers))\n"
   ]
  },
  {
   "cell_type": "markdown",
   "metadata": {},
   "source": [
    "##### max()"
   ]
  },
  {
   "cell_type": "code",
   "execution_count": null,
   "metadata": {},
   "outputs": [],
   "source": [
    "# max(list)\n",
    "\n",
    "print(max(numbers))"
   ]
  },
  {
   "cell_type": "markdown",
   "metadata": {},
   "source": [
    "##### sum()"
   ]
  },
  {
   "cell_type": "code",
   "execution_count": null,
   "metadata": {},
   "outputs": [],
   "source": [
    "# sum(list)\n",
    "print(sum(numbers))\n",
    "\n"
   ]
  },
  {
   "cell_type": "markdown",
   "metadata": {},
   "source": [
    "##### sorted()"
   ]
  },
  {
   "cell_type": "code",
   "execution_count": null,
   "metadata": {},
   "outputs": [],
   "source": [
    "# sorted(list)\n",
    "numbers = [4,2,97,54,16]\n",
    "print(numbers)\n",
    "\n",
    "\n",
    "#SORTED returns a copy of the array in sorted order but does not do it in place\n",
    "#if you want access you have to pss it to a variablr, stores in a differrent block memory and then sort\n",
    "sorted_numbers = sorted(numbers)\n",
    "print(numbers)\n",
    "print(sorted_numbers)\n",
    "\n"
   ]
  },
  {
   "cell_type": "markdown",
   "metadata": {},
   "source": [
    "##### .sort() <br>\n",
    "<p>Difference between sort and sorted, is that sorted doesn't change original list it returns a copy, while .sort changes the original list</p>"
   ]
  },
  {
   "cell_type": "code",
   "execution_count": null,
   "metadata": {},
   "outputs": [],
   "source": [
    "# list.sort()looks at the block of memory where the list is and drops it in the same place\n",
    "numbers.sort() \n",
    "\n",
    "#print (numbers.sort()) - THIS RETURNS NOTHING have to sort then print\n",
    "print(numbers)\n",
    "\n",
    "# use sorted when you don't want to alter original list, use .sort() when you want to alter original list"
   ]
  },
  {
   "cell_type": "markdown",
   "metadata": {},
   "source": [
    "##### Copying a List"
   ]
  },
  {
   "cell_type": "code",
   "execution_count": null,
   "metadata": {},
   "outputs": [],
   "source": [
    "# [:] copies a list, doesn't alter original \n",
    "list1 = numbers[:] #allows you to copy the full list this operation is\n",
    "#the full list is linerally created. Family  with 10 kids in an  apt on a floor, we are copying the family and putting the copy in a different apt\n",
    "print(list1)\n",
    "print(numbers)"
   ]
  },
  {
   "cell_type": "markdown",
   "metadata": {},
   "source": [
    "##### 'in' keyword"
   ]
  },
  {
   "cell_type": "code",
   "execution_count": null,
   "metadata": {},
   "outputs": [],
   "source": [
    "l_teachers = [\"Joel\", \"Derek\" , \"Commer\", \"Brian\", \"Joe\"]\n",
    "if \"Derek\" in l_teachers:\n",
    "    print (\"Coding Temple instructor\")\n",
    "else:\n",
    "    print(\"Not an instructor\")"
   ]
  },
  {
   "cell_type": "markdown",
   "metadata": {},
   "source": [
    "##### 'not in' keyword"
   ]
  },
  {
   "cell_type": "code",
   "execution_count": null,
   "metadata": {},
   "outputs": [],
   "source": [
    "l_teachers = [\"Joel\", \"Derek\" , \"Commer\", \"Brian\", \"Joe\"]\n",
    "if \"Derek\" in l_teachers:\n",
    "    print (\"Coding Temple instructor\")\n",
    "else:\n",
    "    print(\"Not an instructor\")\n",
    "if \"Zack\"  not in l_teachers:\n",
    "    print (\" Not a Coding Temple instructor\")\n"
   ]
  },
  {
   "cell_type": "markdown",
   "metadata": {},
   "source": [
    "##### Checking an Empty List"
   ]
  },
  {
   "cell_type": "code",
   "execution_count": null,
   "metadata": {},
   "outputs": [],
   "source": [
    "# if l_1: or if l_1 = []\n",
    "lst2 = []\n",
    "if lst2 ==[]:\n",
    "    print(\"empty\")\n",
    "\n"
   ]
  },
  {
   "cell_type": "markdown",
   "metadata": {},
   "source": [
    "##### Removing Instances with a Loop"
   ]
  },
  {
   "cell_type": "code",
   "execution_count": null,
   "metadata": {},
   "outputs": [],
   "source": [
    "# while, remove\n",
    "#Remove all of the instances of evan\n",
    "names = [\"Commer\", \"Joel\", \"Max\" , \"Evan\", \"Brian\", \"Evan\"]\n",
    "\n",
    "while 'Evan' in names:\n",
    "     names.remove('Evan')\n",
    "\n",
    "print(names)\n",
    "\n"
   ]
  },
  {
   "cell_type": "markdown",
   "metadata": {},
   "source": [
    "### List Exercise <br>\n",
    "<p>Remove all duplicates<br><b>Extra: Create a program that will remove any duplicates from a given list</b></p>"
   ]
  },
  {
   "cell_type": "code",
   "execution_count": null,
   "metadata": {},
   "outputs": [],
   "source": [
    "names = ['connor', 'connor', 'bob', 'connor', 'evan', 'max', 'evan', 2, 2, 2, 3, 3, 4, 'bob', 'kevin']\n",
    "non_dup = []\n",
    "\n",
    "# Hint 1: You will need an append\n",
    "# Hint 2: Using an empty list will make life easier\n",
    "\n",
    "# i read the question wrong did not have to \n",
    "\n",
    "# for name in names:\n",
    "#     if name not in non_dup:\n",
    "#         # to get title case\n",
    "#         non_dup.append(names) \n",
    "        \n",
    "#     names = []\n",
    "#     names = non_dup[:] \n",
    "\n",
    "# print(non_dup)\n",
    "# print(names)\n",
    "\n",
    "\n",
    "names = ['connor', 'connor', 'bob', 'connor', 'evan', 'max', 'evan', 2, 2, 2, 3, 3, 4, 'bob', 'kevin']\n",
    "non_dup = []\n",
    "\n",
    "# #Ony needed to do this\n",
    "for name in names:\n",
    "    if name not in non_dup:\n",
    "        non_dup.append(name)\n",
    "        \n",
    "print(non_dup)\n",
    "print(names)\n",
    "\n",
    "#this not working\n",
    "# def create_list(names):\n",
    "#     new_list =[name for name in names if name not in new_list]\n",
    "#     return new_list\n",
    "\n",
    "# print(create_list(names))\n",
    "\n"
   ]
  },
  {
   "cell_type": "markdown",
   "metadata": {},
   "source": [
    "### List Comprehensions <br>\n",
    "<p>Creating a quickly generated list to work with<br>*result*  = [*transform*    *iteration*         *filter*     ]</p>"
   ]
  },
  {
   "cell_type": "markdown",
   "metadata": {},
   "source": [
    "##### In a list comprehension we have a few pieces:\n",
    "1. The first is the counter/ variable - IN this the variable is x\n",
    "2. then we have a transform for the variable\n",
    "3. The finale part of a list comp is called the condition\n",
    "\n",
    "```python\n",
    "    [variable, transform, condition]\n",
    "```"
   ]
  },
  {
   "cell_type": "code",
   "execution_count": null,
   "metadata": {},
   "outputs": [],
   "source": [
    "#The new norm in lists - the actual list gets consrtructed when the for loop runs at runtime the list get consatructed\n",
    "# number comprehension \n",
    "\n",
    "###***ONLY FOR CREATING NEW LISTS\n",
    "# With a regular for loop\n",
    "nums = []\n",
    "\n",
    "for i in range(100):\n",
    "    nums.append(i)\n",
    "print(nums)\n",
    "\n",
    "#list comp - condition is optional\n",
    "#[variable, transform, condition]\n",
    "print (\"\\n\")\n",
    "\n",
    "#like a backwards for loop\n",
    "\n",
    "# i and i ALWAYS HAVE TO BE THE SAME these variables have to match\n",
    "#the list is getting created insid \n",
    "      #variable   transform\n",
    "nums_comp = [i for i in range(100)]\n",
    "print(nums_comp)\n",
    "\n",
    "# Joel - do the for loop old way first then fo the list cmop. the end of the for\n",
    "#loop is kins the beginnin\n",
    "\n",
    "\n",
    "# IN a list comprehension we have a few pieces:\n",
    "# The first is the counter/ variable - IN this the variable is x\n",
    "# Then we have a transform for the variable \n",
    "# The finale part of a list comp is called the condition\n",
    "#[variable, transform, condition]\n",
    "\n",
    "\n",
    "\n"
   ]
  },
  {
   "cell_type": "markdown",
   "metadata": {},
   "source": [
    "There are a few benefits to using List comprehensions. The most obvious would be that we now have shorter code to work with instead of using 3+ lines of code in the for loop variant.\n",
    "\n",
    "Another is an added benefit to memory usage. Since the list's memory is allocated first before adding elements to it, we don't have to resize the list once we add elements to it.\n",
    "\n",
    "Lastly, list comprehensions are considered the \"pythonic\" way to write code by the PEP8 standards (Python Style Guide)"
   ]
  },
  {
   "cell_type": "code",
   "execution_count": null,
   "metadata": {},
   "outputs": [],
   "source": [
    "# square number comprehension\n",
    "#you kind of start at the end of the regular way with the (x**2)\n",
    "squares = [x**2 for x in range(10)]\n",
    "print(squares)\n",
    "\n",
    "\n",
    "squares_reg=[]\n",
    "for x in range(10):\n",
    "    squares_reg.append(x**2)\n",
    "    \n",
    "print(\"\\n\")\n",
    "print (squares_reg)\n",
    "\n",
    "\n"
   ]
  },
  {
   "cell_type": "code",
   "execution_count": null,
   "metadata": {},
   "outputs": [],
   "source": [
    "# string comprehension - get all first letters of the names\n",
    "names = ['Conner', 'Max', 'Evan', 'Rob']\n",
    "\n",
    "first_char =[name[0] for name in names]\n",
    "print(first_char)\n",
    "\n",
    "first_reg = []\n",
    "for name in names:\n",
    "    #get index 0 for each name\n",
    "    first_reg.append(name[0])\n",
    "    \n",
    "print(\"\\n\")\n",
    "\n",
    "print(first_reg)\n",
    "\n"
   ]
  },
  {
   "cell_type": "code",
   "execution_count": null,
   "metadata": {},
   "outputs": [],
   "source": [
    "#using a if\n",
    "c_names = [name for name in names if name[0] =='C']\n",
    "\n",
    "print(c_names)\n",
    "\n",
    "#old way\n",
    "reg_names = []\n",
    "for name in names:\n",
    "    if name[0] =='C':\n",
    "        reg_names.append(name)\n",
    "        \n",
    "print(\"\\n\")\n",
    "print(reg_names)"
   ]
  },
  {
   "cell_type": "code",
   "execution_count": null,
   "metadata": {},
   "outputs": [],
   "source": [
    "#using a list comp to create a grid  - inner how things look  - outer what's inside\n",
    "\n",
    "# grid = [[x for x in range(5)] for x in range(15)]  #15 rows 5 columns\n",
    "\n",
    "# grid # can't print a grid\n",
    "\n",
    "grid = [[x for num in range(5)] for x in range(15)]  # still 15 rows 5 columns bit differernt values in grid\n",
    "\n",
    "grid # can't print a grid\n",
    "\n"
   ]
  },
  {
   "cell_type": "markdown",
   "metadata": {},
   "source": [
    "### Tuples <br>\n",
    "<p><b>Defined as an immutable list</b></p><br>Seperated by commas using parenthesis"
   ]
  },
  {
   "cell_type": "code",
   "execution_count": null,
   "metadata": {},
   "outputs": [],
   "source": [
    "# can't change values in a tuple, need to recreate a tuple\n",
    "#can create tuples two  different ways\n",
    "tuple1 = 1,2,3\n",
    "\n",
    "tuple2 = (1,2,3)\n",
    "# print(type(tuple1))\n",
    "# print(type(tuple2))\n",
    "\n",
    "#tuple[0] = 5 #returns an error TypeError: 'type' object does not support item assignment\n",
    "\n",
    "#can print the index though\n",
    "print(tuple1[0])\n"
   ]
  },
  {
   "cell_type": "markdown",
   "metadata": {},
   "source": [
    "##### sorted()"
   ]
  },
  {
   "cell_type": "code",
   "execution_count": null,
   "metadata": {},
   "outputs": [],
   "source": [
    "t_2 = (20,5,1,3,9,45)\n",
    "sorted_tup = sorted(t_2)\n",
    "print(sorted_tup)"
   ]
  },
  {
   "cell_type": "markdown",
   "metadata": {},
   "source": [
    "##### Adding values to a Tuple"
   ]
  },
  {
   "cell_type": "code",
   "execution_count": null,
   "metadata": {},
   "outputs": [],
   "source": [
    "print(tuple1)\n",
    "\n",
    "#need to recreate the tuple to change it\n",
    "\n",
    "# NEED THE COMMA, without the comma it becomes an int\n",
    "tuple1 = tuple1 + (5,)\n",
    "\n",
    "print(tuple1)"
   ]
  },
  {
   "cell_type": "markdown",
   "metadata": {},
   "source": [
    "## Functions"
   ]
  },
  {
   "cell_type": "markdown",
   "metadata": {},
   "source": [
    "##### User-Defined vs. Built-In Functions"
   ]
  },
  {
   "cell_type": "code",
   "execution_count": null,
   "metadata": {},
   "outputs": [],
   "source": [
    "#UDFs\n",
    "\n",
    "def sayHello():\n",
    "    return(\"Hello World\")\n",
    "    \n",
    "#print(sayHello) # this gives you the memory location of the function\n",
    "print(sayHello())"
   ]
  },
  {
   "cell_type": "markdown",
   "metadata": {},
   "source": [
    "##### Accepting Parameters"
   ]
  },
  {
   "cell_type": "code",
   "execution_count": null,
   "metadata": {},
   "outputs": [],
   "source": [
    "# ORDER MATTERS\n",
    "# a variable can be of any type of object, also you can pass a function\n",
    "\n",
    "def printFullName(first_name, last_name):\n",
    "    print(f\"Hello {first_name} {last_name}\")\n",
    "    \n",
    "printFullName(\"Fred\", \"Flintstone\")"
   ]
  },
  {
   "cell_type": "markdown",
   "metadata": {},
   "source": [
    "##### Default Parameters"
   ]
  },
  {
   "cell_type": "code",
   "execution_count": null,
   "metadata": {},
   "outputs": [],
   "source": [
    "#order matters here as well\n",
    "#default paramweters hve to be after non-defalut parameters\n",
    "\n",
    "def printAgentName( first_name, last_name=\"Bond\"):\n",
    "    print(f\"the name is {first_name} {last_name}\")\n",
    "    \n",
    "printAgentName(\"James\")\n",
    "#Can overwrite the defaults\n",
    "\n",
    "printAgentName(\"Joel\", \"Carter\")\n"
   ]
  },
  {
   "cell_type": "markdown",
   "metadata": {},
   "source": [
    "##### Making an Argument Optional"
   ]
  },
  {
   "cell_type": "code",
   "execution_count": null,
   "metadata": {},
   "outputs": [],
   "source": [
    "def printHorseName(first, middle=\"\", last = \"Ed\"):\n",
    "    print(f\"Hello {first} {middle} {last}\")\n",
    "    \n",
    "printHorseName(\"Mr\", \"lee\")\n",
    "printHorseName(\"Mr\")"
   ]
  },
  {
   "cell_type": "markdown",
   "metadata": {},
   "source": [
    "##### Keyword Arguments"
   ]
  },
  {
   "cell_type": "code",
   "execution_count": null,
   "metadata": {},
   "outputs": [],
   "source": [
    "# last_name='Max', first_name='Smith' in the function call\n",
    "#KEYWORD CANNOT go BEFORE Optional\n",
    "# see above\n",
    "\n",
    "def printHorseName(, middle=\"\", first, last = \"Ed\"):\n",
    "    print(f\"Hello {first} {middle} {last}\")\n",
    "    \n",
    "printHorseName(\"Mr\", \"lee\")\n",
    "printHorseName(\"Mr\")"
   ]
  },
  {
   "cell_type": "markdown",
   "metadata": {},
   "source": [
    "# Creating a start, stop, step function"
   ]
  },
  {
   "cell_type": "code",
   "execution_count": null,
   "metadata": {},
   "outputs": [],
   "source": [
    "def my_range (stop, start =0, step = 1):\n",
    "    for i in range(start, stop, step):\n",
    "        print (i)\n",
    "        \n",
    "my_range(100,50,2)"
   ]
  },
  {
   "cell_type": "markdown",
   "metadata": {},
   "source": [
    "##### Returning Values"
   ]
  },
  {
   "cell_type": "code",
   "execution_count": null,
   "metadata": {},
   "outputs": [],
   "source": [
    "def addNums(num1, num2):\n",
    "    return num1 + num2\n",
    "\n",
    "#To see what data type\n",
    "print(type(addNums(5,10)))\n",
    "print(addNums(5,10))"
   ]
  },
  {
   "cell_type": "markdown",
   "metadata": {},
   "source": [
    "##### *args"
   ]
  },
  {
   "cell_type": "code",
   "execution_count": null,
   "metadata": {},
   "outputs": [],
   "source": [
    "# stansd for arguements takes any number of argument as papameters\n",
    "#musst be last if multiplse parameters are present Pep8 style guide says *args should go last\n",
    "\n",
    "def printArgs(num1, *args, **kwargs):\n",
    "    print(args)\n",
    "    print(num1)\n",
    "    print(kwargs)\n",
    "    \n",
    "    random_list=[]\n",
    "    \n",
    "    for arg in args:\n",
    "        if type(arg) == str:\n",
    "            random_list.append(arg)\n",
    "    print (random_list)\n",
    "    \n",
    "printArgs(56,2,3,'Goku', 'vanilla', 26, first_name = \"joel\", last_name = 'carter')\n"
   ]
  },
  {
   "cell_type": "markdown",
   "metadata": {},
   "source": [
    "##### Docstring"
   ]
  },
  {
   "cell_type": "code",
   "execution_count": null,
   "metadata": {},
   "outputs": [],
   "source": [
    "# can call the help function on the UDF and the docstring will be displayed\n",
    "def printNames(list_1):\n",
    "    \"\"\"print Names (list1)\n",
    "    functions requires a list ato be passed as a parameter\n",
    "    and will prit the contnets of the list. Expecting a list oo fnames to be padded\n",
    "    \"\"\"\n",
    "    for name in list_1:\n",
    "        print(name)\n",
    "        \n",
    "printNames(['Conner', 'Max', 'Evan', 'Rob'])\n",
    "print(\"\\n\")\n",
    "help(printNames)"
   ]
  },
  {
   "cell_type": "markdown",
   "metadata": {},
   "source": [
    "##### Using a User Function in a Loop"
   ]
  },
  {
   "cell_type": "code",
   "execution_count": null,
   "metadata": {},
   "outputs": [],
   "source": [
    " def printInput(answer):\n",
    "        print(answer)\n",
    "        \n",
    "response= input(\"are you ready to quit? \")\n",
    "\n",
    "while True:\n",
    "    ask = input(\"What to you want to do?\")\n",
    "    printInput(ask)\n",
    "    response = input('Ready Yet')\n",
    "    if response.lower() == 'quit':\n",
    "        break\n",
    "    \n",
    "                \n",
    "    \n",
    "    "
   ]
  },
  {
   "cell_type": "markdown",
   "metadata": {},
   "source": [
    "## Function Exercise <br>\n",
    "<p>Write a function that loops through a list of first_names and a list of last_names, combines the two and return a list of full_names</p>"
   ]
  },
  {
   "cell_type": "code",
   "execution_count": null,
   "metadata": {},
   "outputs": [],
   "source": [
    "first_name = ['John', 'Evan', 'Jordan', 'Max']\n",
    "last_name = ['Smith', 'Smith', 'Williams', 'Bell']\n",
    "full_name = []\n",
    "# Output: ['John Smith', 'Evan Smith', 'Jordan Williams', 'Max Bell']\n",
    "\n",
    "#WITH ZIP - basically just like a zipper for any iterable\n",
    "# def combine_name(first_name, last_name):\n",
    "#     for f_name, l_name in zip(first_name,last_name):\n",
    "#         #print (f_name)\n",
    "#         #print(l_name)\n",
    "#         #full_name.append(f_name[0] + l_name[0]) got first initials with this\n",
    "#         full_name.append(f_name + \" \" + l_name)\n",
    "        \n",
    "#     return full_name\n",
    "\n",
    "# print(combine_name(first_name, last_name))\n",
    "\n",
    "#lists have to be the same size for both these ways to work, if they were not then wrap in a try and except\n",
    "\n",
    "#Using len of first list\n",
    "def combine_name(first_name, last_name):\n",
    "    #go through first_name list till the end\n",
    "    for name in range(len(first_name)):  \n",
    "        full_name.append(first_name[name] + \" \" + last_name[name])\n",
    "        \n",
    "    return full_name\n",
    "\n",
    "print(combine_name(first_name, last_name))\n",
    "\n"
   ]
  },
  {
   "cell_type": "markdown",
   "metadata": {},
   "source": [
    "## Scope <br>\n",
    "<p>Scope refers to the ability to access variables, different types of scope include:<br>a) Global<br>b) Function (local)<br>c) Class (local)</p>"
   ]
  },
  {
   "cell_type": "code",
   "execution_count": null,
   "metadata": {},
   "outputs": [],
   "source": [
    "#placement of variables declaration matters\n",
    "# num = 3  #global Varable\n",
    "# def myFunc():\n",
    "#     num3 = 6 # local Varaible\n",
    "  \n",
    "\n",
    "# print(num)\n",
    "# print(num3) # this will throw an error  because it is only availabe INSIDE the function\n",
    "\n",
    "num = 3  #global Varable\n",
    "def myFunc():\n",
    "    num3 = 6 # local Varaible\n",
    "    return num3\n",
    "  \n",
    "\n",
    "print(num)\n",
    "print(myFunc())\n"
   ]
  },
  {
   "cell_type": "markdown",
   "metadata": {},
   "source": [
    "# Exercises"
   ]
  },
  {
   "cell_type": "markdown",
   "metadata": {},
   "source": [
    "## Exercise 1 <br>\n",
    "<p>Given a list as a parameter,write a function that returns a list of numbers that are less than ten</b></i></p><br>\n",
    "<p> For example: Say your input parameter to the function is [1,11,14,5,8,9]...Your output should [1,5,8,9]</p>"
   ]
  },
  {
   "cell_type": "code",
   "execution_count": null,
   "metadata": {},
   "outputs": [],
   "source": [
    "# Use the following list - [1,11,14,5,8,9]\n",
    "\n",
    "l_1 = [1,11,14,5,8,9]\n",
    "\n",
    "# def createList(list1):\n",
    "#     new_list = []\n",
    "#     for num in list1:\n",
    "#         if num < 10:\n",
    "#             new_list.append(num)\n",
    "#     return new_list\n",
    "\n",
    "# print(createList(l_1))\n",
    "\n",
    "def createList(list1):\n",
    "    new_list =[num for num in list1 if num <10]\n",
    "    return new_list\n",
    "\n",
    "print(createList(l_1))\n",
    "            \n",
    "        \n"
   ]
  },
  {
   "cell_type": "markdown",
   "metadata": {},
   "source": [
    "## Exercise 2 <br>\n",
    "<p>Write a function that takes in two lists and returns the two lists merged together and sorted<br>\n",
    "<b><i>Hint: You can use the .sort() method</i></b></p>"
   ]
  },
  {
   "cell_type": "code",
   "execution_count": 143,
   "metadata": {},
   "outputs": [
    {
     "name": "stdout",
     "output_type": "stream",
     "text": [
      "[1, 2, 3, 4, 5, 6, 7, 8, 10]\n"
     ]
    }
   ],
   "source": [
    "l_1 = [1,2,3,4,5,6]\n",
    "l_2 = [3,4,5,6,7,8,10]\n",
    "\n",
    "def mergeLists(list_1, list_2):\n",
    "    new_list = list_1 + list_2\n",
    "    sorted_list = sorted(new_list)\n",
    "    return sorted_list\n",
    "\n",
    "\n",
    "def removeMultiples(a_list):    \n",
    "    #getting error with list comp\n",
    "    #free variable 'single_list' referenced before assignment in enclosing scope\n",
    "    #single_list = [item for item in a_list if item not in single_list]\n",
    "    single_list = []\n",
    "    for item in a_list:\n",
    "        if item not in single_list:\n",
    "            single_list.append(item)\n",
    "    return single_list\n",
    "    \n",
    "\n",
    "print(removeMultiples(mergeLists(l_1,l_2)))\n"
   ]
  },
  {
   "cell_type": "code",
   "execution_count": null,
   "metadata": {},
   "outputs": [],
   "source": []
  }
 ],
 "metadata": {
  "kernelspec": {
   "display_name": "Python 3",
   "language": "python",
   "name": "python3"
  },
  "language_info": {
   "codemirror_mode": {
    "name": "ipython",
    "version": 3
   },
   "file_extension": ".py",
   "mimetype": "text/x-python",
   "name": "python",
   "nbconvert_exporter": "python",
   "pygments_lexer": "ipython3",
   "version": "3.7.6"
  }
 },
 "nbformat": 4,
 "nbformat_minor": 2
}
